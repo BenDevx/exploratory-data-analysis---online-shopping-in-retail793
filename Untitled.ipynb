{
 "cells": [
  {
   "cell_type": "code",
   "execution_count": 1,
   "id": "880ab6c6-0f0a-4c45-9f28-aad69bca1b4d",
   "metadata": {},
   "outputs": [
    {
     "data": {
      "text/html": [
       "<div>\n",
       "<style scoped>\n",
       "    .dataframe tbody tr th:only-of-type {\n",
       "        vertical-align: middle;\n",
       "    }\n",
       "\n",
       "    .dataframe tbody tr th {\n",
       "        vertical-align: top;\n",
       "    }\n",
       "\n",
       "    .dataframe thead th {\n",
       "        text-align: right;\n",
       "    }\n",
       "</style>\n",
       "<table border=\"1\" class=\"dataframe\">\n",
       "  <thead>\n",
       "    <tr style=\"text-align: right;\">\n",
       "      <th></th>\n",
       "      <th>administrative</th>\n",
       "      <th>administrative_duration</th>\n",
       "      <th>informational</th>\n",
       "      <th>informational_duration</th>\n",
       "      <th>product_related</th>\n",
       "      <th>product_related_duration</th>\n",
       "      <th>bounce_rates</th>\n",
       "      <th>exit_rates</th>\n",
       "      <th>page_values</th>\n",
       "      <th>month</th>\n",
       "      <th>operating_systems</th>\n",
       "      <th>browser</th>\n",
       "      <th>region</th>\n",
       "      <th>traffic_type</th>\n",
       "      <th>visitor_type</th>\n",
       "      <th>weekend</th>\n",
       "      <th>revenue</th>\n",
       "    </tr>\n",
       "  </thead>\n",
       "  <tbody>\n",
       "    <tr>\n",
       "      <th>0</th>\n",
       "      <td>0.0</td>\n",
       "      <td>0.0</td>\n",
       "      <td>0</td>\n",
       "      <td>0.0</td>\n",
       "      <td>4.0</td>\n",
       "      <td>0.0</td>\n",
       "      <td>0.2000</td>\n",
       "      <td>0.200</td>\n",
       "      <td>0.0</td>\n",
       "      <td>May</td>\n",
       "      <td>Android</td>\n",
       "      <td>Google Chrome</td>\n",
       "      <td>North America</td>\n",
       "      <td>Twitter</td>\n",
       "      <td>Returning_Visitor</td>\n",
       "      <td>False</td>\n",
       "      <td>False</td>\n",
       "    </tr>\n",
       "    <tr>\n",
       "      <th>1</th>\n",
       "      <td>0.0</td>\n",
       "      <td>0.0</td>\n",
       "      <td>0</td>\n",
       "      <td>0.0</td>\n",
       "      <td>26.0</td>\n",
       "      <td>876.0</td>\n",
       "      <td>0.0000</td>\n",
       "      <td>0.026</td>\n",
       "      <td>0.0</td>\n",
       "      <td>Nov</td>\n",
       "      <td>Windows</td>\n",
       "      <td>Google Chrome</td>\n",
       "      <td>Western Europe</td>\n",
       "      <td>Google search</td>\n",
       "      <td>Returning_Visitor</td>\n",
       "      <td>True</td>\n",
       "      <td>False</td>\n",
       "    </tr>\n",
       "    <tr>\n",
       "      <th>2</th>\n",
       "      <td>2.0</td>\n",
       "      <td>99.4</td>\n",
       "      <td>0</td>\n",
       "      <td>0.0</td>\n",
       "      <td>19.0</td>\n",
       "      <td>368.0</td>\n",
       "      <td>0.0396</td>\n",
       "      <td>0.052</td>\n",
       "      <td>0.0</td>\n",
       "      <td>Sep</td>\n",
       "      <td>Windows</td>\n",
       "      <td>Google Chrome</td>\n",
       "      <td>Asia</td>\n",
       "      <td>Twitter</td>\n",
       "      <td>Returning_Visitor</td>\n",
       "      <td>False</td>\n",
       "      <td>False</td>\n",
       "    </tr>\n",
       "    <tr>\n",
       "      <th>3</th>\n",
       "      <td>0.0</td>\n",
       "      <td>0.0</td>\n",
       "      <td>0</td>\n",
       "      <td>0.0</td>\n",
       "      <td>20.0</td>\n",
       "      <td>1432.0</td>\n",
       "      <td>0.0248</td>\n",
       "      <td>0.028</td>\n",
       "      <td>1.8</td>\n",
       "      <td>Dec</td>\n",
       "      <td>Windows</td>\n",
       "      <td>Google Chrome</td>\n",
       "      <td>Western Europe</td>\n",
       "      <td>Instagram ads</td>\n",
       "      <td>Returning_Visitor</td>\n",
       "      <td>False</td>\n",
       "      <td>True</td>\n",
       "    </tr>\n",
       "    <tr>\n",
       "      <th>4</th>\n",
       "      <td>0.0</td>\n",
       "      <td>0.0</td>\n",
       "      <td>0</td>\n",
       "      <td>0.0</td>\n",
       "      <td>33.0</td>\n",
       "      <td>694.0</td>\n",
       "      <td>0.0141</td>\n",
       "      <td>0.032</td>\n",
       "      <td>0.0</td>\n",
       "      <td>May</td>\n",
       "      <td>Android</td>\n",
       "      <td>Google Chrome</td>\n",
       "      <td>North America</td>\n",
       "      <td>Instagram ads</td>\n",
       "      <td>Returning_Visitor</td>\n",
       "      <td>False</td>\n",
       "      <td>False</td>\n",
       "    </tr>\n",
       "  </tbody>\n",
       "</table>\n",
       "</div>"
      ],
      "text/plain": [
       "   administrative  administrative_duration  informational  \\\n",
       "0             0.0                      0.0              0   \n",
       "1             0.0                      0.0              0   \n",
       "2             2.0                     99.4              0   \n",
       "3             0.0                      0.0              0   \n",
       "4             0.0                      0.0              0   \n",
       "\n",
       "   informational_duration  product_related  product_related_duration  \\\n",
       "0                     0.0              4.0                       0.0   \n",
       "1                     0.0             26.0                     876.0   \n",
       "2                     0.0             19.0                     368.0   \n",
       "3                     0.0             20.0                    1432.0   \n",
       "4                     0.0             33.0                     694.0   \n",
       "\n",
       "   bounce_rates  exit_rates  page_values month operating_systems  \\\n",
       "0        0.2000       0.200          0.0   May           Android   \n",
       "1        0.0000       0.026          0.0   Nov           Windows   \n",
       "2        0.0396       0.052          0.0   Sep           Windows   \n",
       "3        0.0248       0.028          1.8   Dec           Windows   \n",
       "4        0.0141       0.032          0.0   May           Android   \n",
       "\n",
       "         browser          region   traffic_type       visitor_type  weekend  \\\n",
       "0  Google Chrome   North America        Twitter  Returning_Visitor    False   \n",
       "1  Google Chrome  Western Europe  Google search  Returning_Visitor     True   \n",
       "2  Google Chrome            Asia        Twitter  Returning_Visitor    False   \n",
       "3  Google Chrome  Western Europe  Instagram ads  Returning_Visitor    False   \n",
       "4  Google Chrome   North America  Instagram ads  Returning_Visitor    False   \n",
       "\n",
       "   revenue  \n",
       "0    False  \n",
       "1    False  \n",
       "2    False  \n",
       "3     True  \n",
       "4    False  "
      ]
     },
     "execution_count": 1,
     "metadata": {},
     "output_type": "execute_result"
    }
   ],
   "source": [
    "import pandas as pd\n",
    "\n",
    "# Load the CSV file\n",
    "df = pd.read_csv(\"customer_activity.csv\")  # Ensure the filename matches\n",
    "\n",
    "# Display the first few rows\n",
    "df.head()\n"
   ]
  },
  {
   "cell_type": "code",
   "execution_count": 2,
   "id": "aadb4a29-aebb-4d1f-93a3-50592cbb7b29",
   "metadata": {},
   "outputs": [
    {
     "name": "stdout",
     "output_type": "stream",
     "text": [
      "<class 'pandas.core.frame.DataFrame'>\n",
      "RangeIndex: 12330 entries, 0 to 12329\n",
      "Data columns (total 17 columns):\n",
      " #   Column                    Non-Null Count  Dtype  \n",
      "---  ------                    --------------  -----  \n",
      " 0   administrative            11760 non-null  float64\n",
      " 1   administrative_duration   11418 non-null  float64\n",
      " 2   informational             12330 non-null  int64  \n",
      " 3   informational_duration    11994 non-null  float64\n",
      " 4   product_related           11751 non-null  float64\n",
      " 5   product_related_duration  12129 non-null  float64\n",
      " 6   bounce_rates              12330 non-null  float64\n",
      " 7   exit_rates                12330 non-null  float64\n",
      " 8   page_values               12330 non-null  float64\n",
      " 9   month                     12330 non-null  object \n",
      " 10  operating_systems         12319 non-null  object \n",
      " 11  browser                   12330 non-null  object \n",
      " 12  region                    12330 non-null  object \n",
      " 13  traffic_type              12330 non-null  object \n",
      " 14  visitor_type              12330 non-null  object \n",
      " 15  weekend                   12330 non-null  bool   \n",
      " 16  revenue                   12330 non-null  bool   \n",
      "dtypes: bool(2), float64(8), int64(1), object(6)\n",
      "memory usage: 1.4+ MB\n"
     ]
    }
   ],
   "source": [
    "# Check column data types\n",
    "df.info()\n"
   ]
  },
  {
   "cell_type": "code",
   "execution_count": 3,
   "id": "50c4c981-ee3c-4149-a98b-96a5d045ea0f",
   "metadata": {},
   "outputs": [
    {
     "data": {
      "text/plain": [
       "administrative              570\n",
       "administrative_duration     912\n",
       "informational                 0\n",
       "informational_duration      336\n",
       "product_related             579\n",
       "product_related_duration    201\n",
       "bounce_rates                  0\n",
       "exit_rates                    0\n",
       "page_values                   0\n",
       "month                         0\n",
       "operating_systems            11\n",
       "browser                       0\n",
       "region                        0\n",
       "traffic_type                  0\n",
       "visitor_type                  0\n",
       "weekend                       0\n",
       "revenue                       0\n",
       "dtype: int64"
      ]
     },
     "execution_count": 3,
     "metadata": {},
     "output_type": "execute_result"
    }
   ],
   "source": [
    "df.isnull().sum()\n"
   ]
  },
  {
   "cell_type": "code",
   "execution_count": 4,
   "id": "3068f006-45fe-4230-8398-4c95bd1c9b91",
   "metadata": {},
   "outputs": [
    {
     "name": "stdout",
     "output_type": "stream",
     "text": [
      "administrative              0\n",
      "administrative_duration     0\n",
      "informational               0\n",
      "informational_duration      0\n",
      "product_related             0\n",
      "product_related_duration    0\n",
      "bounce_rates                0\n",
      "exit_rates                  0\n",
      "page_values                 0\n",
      "month                       0\n",
      "operating_systems           0\n",
      "browser                     0\n",
      "region                      0\n",
      "traffic_type                0\n",
      "visitor_type                0\n",
      "weekend                     0\n",
      "revenue                     0\n",
      "dtype: int64\n"
     ]
    },
    {
     "name": "stderr",
     "output_type": "stream",
     "text": [
      "/var/folders/fz/44yjv3cd7cg9ly7n7124xgw00000gn/T/ipykernel_4845/1710244977.py:7: FutureWarning: A value is trying to be set on a copy of a DataFrame or Series through chained assignment using an inplace method.\n",
      "The behavior will change in pandas 3.0. This inplace method will never work because the intermediate object on which we are setting values always behaves as a copy.\n",
      "\n",
      "For example, when doing 'df[col].method(value, inplace=True)', try using 'df.method({col: value}, inplace=True)' or df[col] = df[col].method(value) instead, to perform the operation inplace on the original object.\n",
      "\n",
      "\n",
      "  df['operating_systems'].fillna(df['operating_systems'].mode()[0], inplace=True)\n"
     ]
    }
   ],
   "source": [
    "# Fill missing numerical values with 0\n",
    "df[['administrative', 'administrative_duration', 'informational_duration', \n",
    "    'product_related', 'product_related_duration']] = df[['administrative', 'administrative_duration', \n",
    "    'informational_duration', 'product_related', 'product_related_duration']].fillna(0)\n",
    "\n",
    "# Fill missing categorical values with the most common value\n",
    "df['operating_systems'].fillna(df['operating_systems'].mode()[0], inplace=True)\n",
    "\n",
    "# Check if missing values are gone\n",
    "print(df.isnull().sum())\n"
   ]
  },
  {
   "cell_type": "code",
   "execution_count": 1,
   "id": "396a110f-1282-4a59-a853-60f9bcacee8c",
   "metadata": {},
   "outputs": [
    {
     "ename": "NameError",
     "evalue": "name 'df' is not defined",
     "output_type": "error",
     "traceback": [
      "\u001b[0;31m---------------------------------------------------------------------------\u001b[0m",
      "\u001b[0;31mNameError\u001b[0m                                 Traceback (most recent call last)",
      "Cell \u001b[0;32mIn[1], line 2\u001b[0m\n\u001b[1;32m      1\u001b[0m \u001b[38;5;66;03m# Check data types and missing values\u001b[39;00m\n\u001b[0;32m----> 2\u001b[0m df\u001b[38;5;241m.\u001b[39minfo()\n\u001b[1;32m      4\u001b[0m \u001b[38;5;66;03m# Check for unique values in categorical columns\u001b[39;00m\n\u001b[1;32m      5\u001b[0m df\u001b[38;5;241m.\u001b[39mnunique()\n",
      "\u001b[0;31mNameError\u001b[0m: name 'df' is not defined"
     ]
    }
   ],
   "source": [
    "# Check data types and missing values\n",
    "df.info()\n",
    "\n",
    "# Check for unique values in categorical columns\n",
    "df.nunique()\n"
   ]
  },
  {
   "cell_type": "code",
   "execution_count": 2,
   "id": "6f67a2f2-2f6f-4d72-8c32-d3e6ca75103e",
   "metadata": {},
   "outputs": [
    {
     "data": {
      "text/html": [
       "<div>\n",
       "<style scoped>\n",
       "    .dataframe tbody tr th:only-of-type {\n",
       "        vertical-align: middle;\n",
       "    }\n",
       "\n",
       "    .dataframe tbody tr th {\n",
       "        vertical-align: top;\n",
       "    }\n",
       "\n",
       "    .dataframe thead th {\n",
       "        text-align: right;\n",
       "    }\n",
       "</style>\n",
       "<table border=\"1\" class=\"dataframe\">\n",
       "  <thead>\n",
       "    <tr style=\"text-align: right;\">\n",
       "      <th></th>\n",
       "      <th>administrative</th>\n",
       "      <th>administrative_duration</th>\n",
       "      <th>informational</th>\n",
       "      <th>informational_duration</th>\n",
       "      <th>product_related</th>\n",
       "      <th>product_related_duration</th>\n",
       "      <th>bounce_rates</th>\n",
       "      <th>exit_rates</th>\n",
       "      <th>page_values</th>\n",
       "      <th>month</th>\n",
       "      <th>operating_systems</th>\n",
       "      <th>browser</th>\n",
       "      <th>region</th>\n",
       "      <th>traffic_type</th>\n",
       "      <th>visitor_type</th>\n",
       "      <th>weekend</th>\n",
       "      <th>revenue</th>\n",
       "    </tr>\n",
       "  </thead>\n",
       "  <tbody>\n",
       "    <tr>\n",
       "      <th>0</th>\n",
       "      <td>0.0</td>\n",
       "      <td>0.0</td>\n",
       "      <td>0</td>\n",
       "      <td>0.0</td>\n",
       "      <td>4.0</td>\n",
       "      <td>0.0</td>\n",
       "      <td>0.2000</td>\n",
       "      <td>0.200</td>\n",
       "      <td>0.0</td>\n",
       "      <td>May</td>\n",
       "      <td>Android</td>\n",
       "      <td>Google Chrome</td>\n",
       "      <td>North America</td>\n",
       "      <td>Twitter</td>\n",
       "      <td>Returning_Visitor</td>\n",
       "      <td>False</td>\n",
       "      <td>False</td>\n",
       "    </tr>\n",
       "    <tr>\n",
       "      <th>1</th>\n",
       "      <td>0.0</td>\n",
       "      <td>0.0</td>\n",
       "      <td>0</td>\n",
       "      <td>0.0</td>\n",
       "      <td>26.0</td>\n",
       "      <td>876.0</td>\n",
       "      <td>0.0000</td>\n",
       "      <td>0.026</td>\n",
       "      <td>0.0</td>\n",
       "      <td>Nov</td>\n",
       "      <td>Windows</td>\n",
       "      <td>Google Chrome</td>\n",
       "      <td>Western Europe</td>\n",
       "      <td>Google search</td>\n",
       "      <td>Returning_Visitor</td>\n",
       "      <td>True</td>\n",
       "      <td>False</td>\n",
       "    </tr>\n",
       "    <tr>\n",
       "      <th>2</th>\n",
       "      <td>2.0</td>\n",
       "      <td>99.4</td>\n",
       "      <td>0</td>\n",
       "      <td>0.0</td>\n",
       "      <td>19.0</td>\n",
       "      <td>368.0</td>\n",
       "      <td>0.0396</td>\n",
       "      <td>0.052</td>\n",
       "      <td>0.0</td>\n",
       "      <td>Sep</td>\n",
       "      <td>Windows</td>\n",
       "      <td>Google Chrome</td>\n",
       "      <td>Asia</td>\n",
       "      <td>Twitter</td>\n",
       "      <td>Returning_Visitor</td>\n",
       "      <td>False</td>\n",
       "      <td>False</td>\n",
       "    </tr>\n",
       "    <tr>\n",
       "      <th>3</th>\n",
       "      <td>0.0</td>\n",
       "      <td>0.0</td>\n",
       "      <td>0</td>\n",
       "      <td>0.0</td>\n",
       "      <td>20.0</td>\n",
       "      <td>1432.0</td>\n",
       "      <td>0.0248</td>\n",
       "      <td>0.028</td>\n",
       "      <td>1.8</td>\n",
       "      <td>Dec</td>\n",
       "      <td>Windows</td>\n",
       "      <td>Google Chrome</td>\n",
       "      <td>Western Europe</td>\n",
       "      <td>Instagram ads</td>\n",
       "      <td>Returning_Visitor</td>\n",
       "      <td>False</td>\n",
       "      <td>True</td>\n",
       "    </tr>\n",
       "    <tr>\n",
       "      <th>4</th>\n",
       "      <td>0.0</td>\n",
       "      <td>0.0</td>\n",
       "      <td>0</td>\n",
       "      <td>0.0</td>\n",
       "      <td>33.0</td>\n",
       "      <td>694.0</td>\n",
       "      <td>0.0141</td>\n",
       "      <td>0.032</td>\n",
       "      <td>0.0</td>\n",
       "      <td>May</td>\n",
       "      <td>Android</td>\n",
       "      <td>Google Chrome</td>\n",
       "      <td>North America</td>\n",
       "      <td>Instagram ads</td>\n",
       "      <td>Returning_Visitor</td>\n",
       "      <td>False</td>\n",
       "      <td>False</td>\n",
       "    </tr>\n",
       "  </tbody>\n",
       "</table>\n",
       "</div>"
      ],
      "text/plain": [
       "   administrative  administrative_duration  informational  \\\n",
       "0             0.0                      0.0              0   \n",
       "1             0.0                      0.0              0   \n",
       "2             2.0                     99.4              0   \n",
       "3             0.0                      0.0              0   \n",
       "4             0.0                      0.0              0   \n",
       "\n",
       "   informational_duration  product_related  product_related_duration  \\\n",
       "0                     0.0              4.0                       0.0   \n",
       "1                     0.0             26.0                     876.0   \n",
       "2                     0.0             19.0                     368.0   \n",
       "3                     0.0             20.0                    1432.0   \n",
       "4                     0.0             33.0                     694.0   \n",
       "\n",
       "   bounce_rates  exit_rates  page_values month operating_systems  \\\n",
       "0        0.2000       0.200          0.0   May           Android   \n",
       "1        0.0000       0.026          0.0   Nov           Windows   \n",
       "2        0.0396       0.052          0.0   Sep           Windows   \n",
       "3        0.0248       0.028          1.8   Dec           Windows   \n",
       "4        0.0141       0.032          0.0   May           Android   \n",
       "\n",
       "         browser          region   traffic_type       visitor_type  weekend  \\\n",
       "0  Google Chrome   North America        Twitter  Returning_Visitor    False   \n",
       "1  Google Chrome  Western Europe  Google search  Returning_Visitor     True   \n",
       "2  Google Chrome            Asia        Twitter  Returning_Visitor    False   \n",
       "3  Google Chrome  Western Europe  Instagram ads  Returning_Visitor    False   \n",
       "4  Google Chrome   North America  Instagram ads  Returning_Visitor    False   \n",
       "\n",
       "   revenue  \n",
       "0    False  \n",
       "1    False  \n",
       "2    False  \n",
       "3     True  \n",
       "4    False  "
      ]
     },
     "execution_count": 2,
     "metadata": {},
     "output_type": "execute_result"
    }
   ],
   "source": [
    "import pandas as pd\n",
    "\n",
    "# Load the CSV file\n",
    "df = pd.read_csv(\"customer_activity.csv\")  # Ensure the filename matches\n",
    "\n",
    "# Display the first few rows\n",
    "df.head()"
   ]
  },
  {
   "cell_type": "code",
   "execution_count": 3,
   "id": "001bac87-cde4-436a-aa5a-a04d2281dbe9",
   "metadata": {},
   "outputs": [
    {
     "name": "stdout",
     "output_type": "stream",
     "text": [
      "<class 'pandas.core.frame.DataFrame'>\n",
      "RangeIndex: 12330 entries, 0 to 12329\n",
      "Data columns (total 17 columns):\n",
      " #   Column                    Non-Null Count  Dtype   \n",
      "---  ------                    --------------  -----   \n",
      " 0   administrative            11760 non-null  float64 \n",
      " 1   administrative_duration   11418 non-null  float64 \n",
      " 2   informational             12330 non-null  int64   \n",
      " 3   informational_duration    11994 non-null  float64 \n",
      " 4   product_related           11751 non-null  float64 \n",
      " 5   product_related_duration  12129 non-null  float64 \n",
      " 6   bounce_rates              12330 non-null  float64 \n",
      " 7   exit_rates                12330 non-null  float64 \n",
      " 8   page_values               12330 non-null  float64 \n",
      " 9   month                     12330 non-null  category\n",
      " 10  operating_systems         12319 non-null  category\n",
      " 11  browser                   12330 non-null  category\n",
      " 12  region                    12330 non-null  category\n",
      " 13  traffic_type              12330 non-null  category\n",
      " 14  visitor_type              12330 non-null  category\n",
      " 15  weekend                   12330 non-null  bool    \n",
      " 16  revenue                   12330 non-null  bool    \n",
      "dtypes: bool(2), category(6), float64(8), int64(1)\n",
      "memory usage: 966.0 KB\n"
     ]
    }
   ],
   "source": [
    "# Convert categorical columns to category type\n",
    "categorical_cols = ['month', 'operating_systems', 'browser', 'region', 'traffic_type', 'visitor_type']\n",
    "df[categorical_cols] = df[categorical_cols].astype('category')\n",
    "\n",
    "# Check the changes\n",
    "df.info()\n"
   ]
  },
  {
   "cell_type": "code",
   "execution_count": 4,
   "id": "ef704d0c-e089-4b93-817e-123f2edca9a8",
   "metadata": {},
   "outputs": [
    {
     "data": {
      "text/html": [
       "<div>\n",
       "<style scoped>\n",
       "    .dataframe tbody tr th:only-of-type {\n",
       "        vertical-align: middle;\n",
       "    }\n",
       "\n",
       "    .dataframe tbody tr th {\n",
       "        vertical-align: top;\n",
       "    }\n",
       "\n",
       "    .dataframe thead th {\n",
       "        text-align: right;\n",
       "    }\n",
       "</style>\n",
       "<table border=\"1\" class=\"dataframe\">\n",
       "  <thead>\n",
       "    <tr style=\"text-align: right;\">\n",
       "      <th></th>\n",
       "      <th>administrative</th>\n",
       "      <th>administrative_duration</th>\n",
       "      <th>informational</th>\n",
       "      <th>informational_duration</th>\n",
       "      <th>product_related</th>\n",
       "      <th>product_related_duration</th>\n",
       "      <th>bounce_rates</th>\n",
       "      <th>exit_rates</th>\n",
       "      <th>page_values</th>\n",
       "      <th>month</th>\n",
       "      <th>operating_systems</th>\n",
       "      <th>browser</th>\n",
       "      <th>region</th>\n",
       "      <th>traffic_type</th>\n",
       "      <th>visitor_type</th>\n",
       "      <th>weekend</th>\n",
       "      <th>revenue</th>\n",
       "    </tr>\n",
       "  </thead>\n",
       "  <tbody>\n",
       "    <tr>\n",
       "      <th>0</th>\n",
       "      <td>0.0</td>\n",
       "      <td>0.0</td>\n",
       "      <td>0</td>\n",
       "      <td>0.0</td>\n",
       "      <td>4.0</td>\n",
       "      <td>0.0</td>\n",
       "      <td>0.2000</td>\n",
       "      <td>0.200</td>\n",
       "      <td>0.0</td>\n",
       "      <td>May</td>\n",
       "      <td>Android</td>\n",
       "      <td>Google Chrome</td>\n",
       "      <td>North America</td>\n",
       "      <td>Twitter</td>\n",
       "      <td>Returning_Visitor</td>\n",
       "      <td>False</td>\n",
       "      <td>False</td>\n",
       "    </tr>\n",
       "    <tr>\n",
       "      <th>1</th>\n",
       "      <td>0.0</td>\n",
       "      <td>0.0</td>\n",
       "      <td>0</td>\n",
       "      <td>0.0</td>\n",
       "      <td>26.0</td>\n",
       "      <td>876.0</td>\n",
       "      <td>0.0000</td>\n",
       "      <td>0.026</td>\n",
       "      <td>0.0</td>\n",
       "      <td>Nov</td>\n",
       "      <td>Windows</td>\n",
       "      <td>Google Chrome</td>\n",
       "      <td>Western Europe</td>\n",
       "      <td>Google search</td>\n",
       "      <td>Returning_Visitor</td>\n",
       "      <td>True</td>\n",
       "      <td>False</td>\n",
       "    </tr>\n",
       "    <tr>\n",
       "      <th>2</th>\n",
       "      <td>2.0</td>\n",
       "      <td>99.4</td>\n",
       "      <td>0</td>\n",
       "      <td>0.0</td>\n",
       "      <td>19.0</td>\n",
       "      <td>368.0</td>\n",
       "      <td>0.0396</td>\n",
       "      <td>0.052</td>\n",
       "      <td>0.0</td>\n",
       "      <td>Sep</td>\n",
       "      <td>Windows</td>\n",
       "      <td>Google Chrome</td>\n",
       "      <td>Asia</td>\n",
       "      <td>Twitter</td>\n",
       "      <td>Returning_Visitor</td>\n",
       "      <td>False</td>\n",
       "      <td>False</td>\n",
       "    </tr>\n",
       "    <tr>\n",
       "      <th>3</th>\n",
       "      <td>0.0</td>\n",
       "      <td>0.0</td>\n",
       "      <td>0</td>\n",
       "      <td>0.0</td>\n",
       "      <td>20.0</td>\n",
       "      <td>1432.0</td>\n",
       "      <td>0.0248</td>\n",
       "      <td>0.028</td>\n",
       "      <td>1.8</td>\n",
       "      <td>Dec</td>\n",
       "      <td>Windows</td>\n",
       "      <td>Google Chrome</td>\n",
       "      <td>Western Europe</td>\n",
       "      <td>Instagram ads</td>\n",
       "      <td>Returning_Visitor</td>\n",
       "      <td>False</td>\n",
       "      <td>True</td>\n",
       "    </tr>\n",
       "    <tr>\n",
       "      <th>4</th>\n",
       "      <td>0.0</td>\n",
       "      <td>0.0</td>\n",
       "      <td>0</td>\n",
       "      <td>0.0</td>\n",
       "      <td>33.0</td>\n",
       "      <td>694.0</td>\n",
       "      <td>0.0141</td>\n",
       "      <td>0.032</td>\n",
       "      <td>0.0</td>\n",
       "      <td>May</td>\n",
       "      <td>Android</td>\n",
       "      <td>Google Chrome</td>\n",
       "      <td>North America</td>\n",
       "      <td>Instagram ads</td>\n",
       "      <td>Returning_Visitor</td>\n",
       "      <td>False</td>\n",
       "      <td>False</td>\n",
       "    </tr>\n",
       "  </tbody>\n",
       "</table>\n",
       "</div>"
      ],
      "text/plain": [
       "   administrative  administrative_duration  informational  \\\n",
       "0             0.0                      0.0              0   \n",
       "1             0.0                      0.0              0   \n",
       "2             2.0                     99.4              0   \n",
       "3             0.0                      0.0              0   \n",
       "4             0.0                      0.0              0   \n",
       "\n",
       "   informational_duration  product_related  product_related_duration  \\\n",
       "0                     0.0              4.0                       0.0   \n",
       "1                     0.0             26.0                     876.0   \n",
       "2                     0.0             19.0                     368.0   \n",
       "3                     0.0             20.0                    1432.0   \n",
       "4                     0.0             33.0                     694.0   \n",
       "\n",
       "   bounce_rates  exit_rates  page_values month operating_systems  \\\n",
       "0        0.2000       0.200          0.0   May           Android   \n",
       "1        0.0000       0.026          0.0   Nov           Windows   \n",
       "2        0.0396       0.052          0.0   Sep           Windows   \n",
       "3        0.0248       0.028          1.8   Dec           Windows   \n",
       "4        0.0141       0.032          0.0   May           Android   \n",
       "\n",
       "         browser          region   traffic_type       visitor_type  weekend  \\\n",
       "0  Google Chrome   North America        Twitter  Returning_Visitor    False   \n",
       "1  Google Chrome  Western Europe  Google search  Returning_Visitor     True   \n",
       "2  Google Chrome            Asia        Twitter  Returning_Visitor    False   \n",
       "3  Google Chrome  Western Europe  Instagram ads  Returning_Visitor    False   \n",
       "4  Google Chrome   North America  Instagram ads  Returning_Visitor    False   \n",
       "\n",
       "   revenue  \n",
       "0    False  \n",
       "1    False  \n",
       "2    False  \n",
       "3     True  \n",
       "4    False  "
      ]
     },
     "execution_count": 4,
     "metadata": {},
     "output_type": "execute_result"
    }
   ],
   "source": [
    "df.head()"
   ]
  },
  {
   "cell_type": "code",
   "execution_count": 5,
   "id": "2534e469-f7b0-45b5-9570-ea283ed433a2",
   "metadata": {},
   "outputs": [
    {
     "data": {
      "text/plain": [
       "administrative              570\n",
       "administrative_duration     912\n",
       "informational                 0\n",
       "informational_duration      336\n",
       "product_related             579\n",
       "product_related_duration    201\n",
       "bounce_rates                  0\n",
       "exit_rates                    0\n",
       "page_values                   0\n",
       "month                         0\n",
       "operating_systems            11\n",
       "browser                       0\n",
       "region                        0\n",
       "traffic_type                  0\n",
       "visitor_type                  0\n",
       "weekend                       0\n",
       "revenue                       0\n",
       "dtype: int64"
      ]
     },
     "execution_count": 5,
     "metadata": {},
     "output_type": "execute_result"
    }
   ],
   "source": [
    "df.isnull().sum()\n"
   ]
  },
  {
   "cell_type": "code",
   "execution_count": 6,
   "id": "ac3ee864-bedc-46be-a480-c701bd9d3a0e",
   "metadata": {},
   "outputs": [
    {
     "name": "stderr",
     "output_type": "stream",
     "text": [
      "/var/folders/fz/44yjv3cd7cg9ly7n7124xgw00000gn/T/ipykernel_3916/1838875805.py:7: FutureWarning: A value is trying to be set on a copy of a DataFrame or Series through chained assignment using an inplace method.\n",
      "The behavior will change in pandas 3.0. This inplace method will never work because the intermediate object on which we are setting values always behaves as a copy.\n",
      "\n",
      "For example, when doing 'df[col].method(value, inplace=True)', try using 'df.method({col: value}, inplace=True)' or df[col] = df[col].method(value) instead, to perform the operation inplace on the original object.\n",
      "\n",
      "\n",
      "  df['operating_systems'].fillna(df['operating_systems'].mode()[0], inplace=True)\n"
     ]
    },
    {
     "data": {
      "text/plain": [
       "administrative              0\n",
       "administrative_duration     0\n",
       "informational               0\n",
       "informational_duration      0\n",
       "product_related             0\n",
       "product_related_duration    0\n",
       "bounce_rates                0\n",
       "exit_rates                  0\n",
       "page_values                 0\n",
       "month                       0\n",
       "operating_systems           0\n",
       "browser                     0\n",
       "region                      0\n",
       "traffic_type                0\n",
       "visitor_type                0\n",
       "weekend                     0\n",
       "revenue                     0\n",
       "dtype: int64"
      ]
     },
     "execution_count": 6,
     "metadata": {},
     "output_type": "execute_result"
    }
   ],
   "source": [
    "# Fill missing numerical values with the median\n",
    "num_cols = ['administrative', 'administrative_duration', 'informational_duration',\n",
    "            'product_related', 'product_related_duration']\n",
    "df[num_cols] = df[num_cols].fillna(df[num_cols].median())\n",
    "\n",
    "# Fill missing categorical values with the mode\n",
    "df['operating_systems'].fillna(df['operating_systems'].mode()[0], inplace=True)\n",
    "\n",
    "# Check if all missing values are fixed\n",
    "df.isnull().sum()\n"
   ]
  },
  {
   "cell_type": "code",
   "execution_count": 7,
   "id": "0bc87f86-f6f4-4100-9a2b-5448f65c87e3",
   "metadata": {},
   "outputs": [
    {
     "name": "stdout",
     "output_type": "stream",
     "text": [
      "Median values used to fill numerical columns:\n",
      " administrative                1.0\n",
      "administrative_duration       6.0\n",
      "informational_duration        0.0\n",
      "product_related              18.0\n",
      "product_related_duration    586.0\n",
      "dtype: float64\n",
      "\n",
      "Mode value used to fill 'operating_systems': Windows\n"
     ]
    }
   ],
   "source": [
    "# Check median values for numerical columns\n",
    "num_cols = ['administrative', 'administrative_duration', 'informational_duration',\n",
    "            'product_related', 'product_related_duration']\n",
    "median_values = df[num_cols].median()\n",
    "print(\"Median values used to fill numerical columns:\\n\", median_values)\n",
    "\n",
    "# Check mode value for categorical column\n",
    "mode_value = df['operating_systems'].mode()[0]\n",
    "print(\"\\nMode value used to fill 'operating_systems':\", mode_value)"
   ]
  },
  {
   "cell_type": "code",
   "execution_count": 8,
   "id": "dc9f27d8-b83c-4d1e-a5a6-1261dea63ed3",
   "metadata": {},
   "outputs": [
    {
     "name": "stdout",
     "output_type": "stream",
     "text": [
      "administrative              0\n",
      "administrative_duration     0\n",
      "informational               0\n",
      "informational_duration      0\n",
      "product_related             0\n",
      "product_related_duration    0\n",
      "bounce_rates                0\n",
      "exit_rates                  0\n",
      "page_values                 0\n",
      "month                       0\n",
      "operating_systems           0\n",
      "browser                     0\n",
      "region                      0\n",
      "traffic_type                0\n",
      "visitor_type                0\n",
      "weekend                     0\n",
      "revenue                     0\n",
      "dtype: int64\n"
     ]
    }
   ],
   "source": [
    "print(df.isnull().sum())  \n"
   ]
  },
  {
   "cell_type": "code",
   "execution_count": 9,
   "id": "97cf3849-c69f-4a19-817c-a5caca1d1308",
   "metadata": {},
   "outputs": [
    {
     "data": {
      "text/plain": [
       "administrative               float64\n",
       "administrative_duration      float64\n",
       "informational                  int64\n",
       "informational_duration       float64\n",
       "product_related              float64\n",
       "product_related_duration     float64\n",
       "bounce_rates                 float64\n",
       "exit_rates                   float64\n",
       "page_values                  float64\n",
       "month                       category\n",
       "operating_systems           category\n",
       "browser                     category\n",
       "region                      category\n",
       "traffic_type                category\n",
       "visitor_type                category\n",
       "weekend                         bool\n",
       "revenue                         bool\n",
       "dtype: object"
      ]
     },
     "execution_count": 9,
     "metadata": {},
     "output_type": "execute_result"
    }
   ],
   "source": [
    "df.dtypes\n"
   ]
  },
  {
   "cell_type": "code",
   "execution_count": 10,
   "id": "6c818cec-017b-4b1f-b9d0-9846ff058a8b",
   "metadata": {},
   "outputs": [
    {
     "data": {
      "text/plain": [
       "administrative                 int64\n",
       "administrative_duration      float64\n",
       "informational                  int64\n",
       "informational_duration       float64\n",
       "product_related                int64\n",
       "product_related_duration     float64\n",
       "bounce_rates                 float64\n",
       "exit_rates                   float64\n",
       "page_values                  float64\n",
       "month                       category\n",
       "operating_systems           category\n",
       "browser                     category\n",
       "region                      category\n",
       "traffic_type                category\n",
       "visitor_type                category\n",
       "weekend                         bool\n",
       "revenue                         bool\n",
       "dtype: object"
      ]
     },
     "execution_count": 10,
     "metadata": {},
     "output_type": "execute_result"
    }
   ],
   "source": [
    "# Convert count columns to integer\n",
    "df[\"administrative\"] = df[\"administrative\"].astype(int)\n",
    "df[\"informational\"] = df[\"informational\"].astype(int)\n",
    "df[\"product_related\"] = df[\"product_related\"].astype(int)\n",
    "\n",
    "\n",
    "df.dtypes\n"
   ]
  },
  {
   "cell_type": "code",
   "execution_count": 11,
   "id": "c8a48c63-102f-45fc-87c1-87854c22bb92",
   "metadata": {},
   "outputs": [
    {
     "data": {
      "text/plain": [
       "['May', 'Nov', 'Sep', 'Dec', 'Mar', 'June', 'Aug', 'Oct', 'Jul', 'Feb']\n",
       "Categories (10, object): ['Aug', 'Dec', 'Feb', 'Jul', ..., 'May', 'Nov', 'Oct', 'Sep']"
      ]
     },
     "execution_count": 11,
     "metadata": {},
     "output_type": "execute_result"
    }
   ],
   "source": [
    "df[\"month\"].unique()\n"
   ]
  },
  {
   "cell_type": "code",
   "execution_count": 12,
   "id": "6b036463-d8ed-4efa-8598-acf3f3a385cd",
   "metadata": {},
   "outputs": [
    {
     "name": "stderr",
     "output_type": "stream",
     "text": [
      "/var/folders/fz/44yjv3cd7cg9ly7n7124xgw00000gn/T/ipykernel_3916/1707092116.py:1: FutureWarning: The behavior of Series.replace (and DataFrame.replace) with CategoricalDtype is deprecated. In a future version, replace will only be used for cases that preserve the categories. To change the categories, use ser.cat.rename_categories instead.\n",
      "  df[\"month\"] = df[\"month\"].replace(\"June\", \"Jun\")\n"
     ]
    },
    {
     "data": {
      "text/plain": [
       "['May', 'Nov', 'Sep', 'Dec', 'Mar', 'Jun', 'Aug', 'Oct', 'Jul', 'Feb']\n",
       "Categories (10, object): ['Aug', 'Dec', 'Feb', 'Jul', ..., 'May', 'Nov', 'Oct', 'Sep']"
      ]
     },
     "execution_count": 12,
     "metadata": {},
     "output_type": "execute_result"
    }
   ],
   "source": [
    "df[\"month\"] = df[\"month\"].replace(\"June\", \"Jun\")\n",
    "\n",
    "# Verify changes\n",
    "df[\"month\"].unique()"
   ]
  },
  {
   "cell_type": "code",
   "execution_count": 13,
   "id": "b0f1c9d5-b976-44e4-afba-128a7c5c3613",
   "metadata": {},
   "outputs": [
    {
     "data": {
      "text/plain": [
       "[5, 11, 9, 12, 3, 6, 8, 10, 7, 2]\n",
       "Categories (10, int64): [8, 12, 2, 7, ..., 5, 11, 10, 9]"
      ]
     },
     "execution_count": 13,
     "metadata": {},
     "output_type": "execute_result"
    }
   ],
   "source": [
    "# Define mapping for month names to numbers\n",
    "month_mapping = {\n",
    "    \"Jan\": 1, \"Feb\": 2, \"Mar\": 3, \"Apr\": 4, \"May\": 5, \"Jun\": 6,\n",
    "    \"Jul\": 7, \"Aug\": 8, \"Sep\": 9, \"Oct\": 10, \"Nov\": 11, \"Dec\": 12\n",
    "}\n",
    "\n",
    "# Apply mapping\n",
    "df[\"month\"] = df[\"month\"].map(month_mapping)\n",
    "\n",
    "# Verify changes\n",
    "df[\"month\"].unique()"
   ]
  },
  {
   "cell_type": "code",
   "execution_count": 14,
   "id": "cd91b076-2093-4530-be52-f1bdf881bb5d",
   "metadata": {},
   "outputs": [
    {
     "name": "stdout",
     "output_type": "stream",
     "text": [
      "int64\n",
      "[ 5 11  9 12  3  6  8 10  7  2]\n"
     ]
    }
   ],
   "source": [
    "df[\"month\"] = df[\"month\"].astype(int)\n",
    "\n",
    "# Verify changes\n",
    "print(df[\"month\"].dtype)  # Should now be 'int64'\n",
    "print(df[\"month\"].unique())  # Should display numbers 1-12"
   ]
  },
  {
   "cell_type": "code",
   "execution_count": 15,
   "id": "8c8a1204-c988-4711-be92-d8e0cf053e86",
   "metadata": {},
   "outputs": [
    {
     "name": "stdout",
     "output_type": "stream",
     "text": [
      "int64\n",
      "[ 5 11  9 12  3  6  8 10  7  2]\n"
     ]
    }
   ],
   "source": [
    "df[\"month\"] = df[\"month\"].astype(int)\n",
    "\n",
    "# Verify changes\n",
    "print(df[\"month\"].dtype)  # Should now be 'int64'\n",
    "print(df[\"month\"].unique())  # Should display numbers 1-12"
   ]
  },
  {
   "cell_type": "code",
   "execution_count": 16,
   "id": "a5dd2863-3961-42e5-b658-8c5f7bdc538f",
   "metadata": {},
   "outputs": [
    {
     "name": "stdout",
     "output_type": "stream",
     "text": [
      "['Returning_Visitor', 'New_Visitor', 'Other']\n",
      "Categories (3, object): ['New_Visitor', 'Other', 'Returning_Visitor']\n",
      "category\n"
     ]
    }
   ],
   "source": [
    "print(df[\"visitor_type\"].unique())\n",
    "print(df[\"visitor_type\"].dtype)\n"
   ]
  },
  {
   "cell_type": "code",
   "execution_count": 17,
   "id": "28c2265c-a360-4396-94ff-5a910740d81f",
   "metadata": {},
   "outputs": [
    {
     "name": "stdout",
     "output_type": "stream",
     "text": [
      "[ 1.  0. nan]\n",
      "float64\n"
     ]
    }
   ],
   "source": [
    "df[\"visitor_type\"] = df[\"visitor_type\"].map({\"Returning_Visitor\": 1, \"New_Visitor\": 0})\n",
    "\n",
    "# Verify the change\n",
    "print(df[\"visitor_type\"].unique())  # Should now show [1, 0]\n",
    "print(df[\"visitor_type\"].dtype)  # Should now be 'int64'"
   ]
  },
  {
   "cell_type": "code",
   "execution_count": 18,
   "id": "cf7416a3-40db-4f2b-86ed-4853269cefe1",
   "metadata": {},
   "outputs": [
    {
     "name": "stdout",
     "output_type": "stream",
     "text": [
      "[ 1.  0. nan]\n"
     ]
    }
   ],
   "source": [
    "print(df[\"visitor_type\"].unique())  # Before transformation"
   ]
  },
  {
   "cell_type": "code",
   "execution_count": 19,
   "id": "ad68c983-2e62-4da3-b000-31886b9a3440",
   "metadata": {},
   "outputs": [
    {
     "name": "stdout",
     "output_type": "stream",
     "text": [
      "[0]\n",
      "int64\n"
     ]
    },
    {
     "name": "stderr",
     "output_type": "stream",
     "text": [
      "/var/folders/fz/44yjv3cd7cg9ly7n7124xgw00000gn/T/ipykernel_3916/210078901.py:2: FutureWarning: A value is trying to be set on a copy of a DataFrame or Series through chained assignment using an inplace method.\n",
      "The behavior will change in pandas 3.0. This inplace method will never work because the intermediate object on which we are setting values always behaves as a copy.\n",
      "\n",
      "For example, when doing 'df[col].method(value, inplace=True)', try using 'df.method({col: value}, inplace=True)' or df[col] = df[col].method(value) instead, to perform the operation inplace on the original object.\n",
      "\n",
      "\n",
      "  df[\"visitor_type\"].fillna(0, inplace=True)  # Convert NaN to 0\n"
     ]
    }
   ],
   "source": [
    "df[\"visitor_type\"] = df[\"visitor_type\"].map({\"Returning_Visitor\": 1, \"New_Visitor\": 0})\n",
    "df[\"visitor_type\"].fillna(0, inplace=True)  # Convert NaN to 0\n",
    "df[\"visitor_type\"] = df[\"visitor_type\"].astype(int)  # Ensure integer type\n",
    "\n",
    "print(df[\"visitor_type\"].unique())  # Expected output: [1, 0]\n",
    "print(df[\"visitor_type\"].dtype)  # Should now be int64"
   ]
  },
  {
   "cell_type": "code",
   "execution_count": 20,
   "id": "31d21dd4-186f-4854-80be-3705cd7e3625",
   "metadata": {},
   "outputs": [
    {
     "data": {
      "text/plain": [
       "array([0])"
      ]
     },
     "execution_count": 20,
     "metadata": {},
     "output_type": "execute_result"
    }
   ],
   "source": [
    "df[\"visitor_type\"].unique()"
   ]
  },
  {
   "cell_type": "code",
   "execution_count": 21,
   "id": "2582d528-bf05-44b7-8b40-48b83f66503c",
   "metadata": {},
   "outputs": [
    {
     "name": "stdout",
     "output_type": "stream",
     "text": [
      "[0]\n"
     ]
    }
   ],
   "source": [
    "print(df[\"visitor_type\"].unique())  # Check original values before mapping"
   ]
  },
  {
   "cell_type": "code",
   "execution_count": 22,
   "id": "61f71002-150d-4b60-8505-3c317a31c4a2",
   "metadata": {},
   "outputs": [
    {
     "name": "stdout",
     "output_type": "stream",
     "text": [
      "int64\n",
      "   administrative  administrative_duration  informational  \\\n",
      "0               0                      0.0              0   \n",
      "1               0                      0.0              0   \n",
      "2               2                     99.4              0   \n",
      "3               0                      0.0              0   \n",
      "4               0                      0.0              0   \n",
      "\n",
      "   informational_duration  product_related  product_related_duration  \\\n",
      "0                     0.0                4                       0.0   \n",
      "1                     0.0               26                     876.0   \n",
      "2                     0.0               19                     368.0   \n",
      "3                     0.0               20                    1432.0   \n",
      "4                     0.0               33                     694.0   \n",
      "\n",
      "   bounce_rates  exit_rates  page_values  month operating_systems  \\\n",
      "0        0.2000       0.200          0.0      5           Android   \n",
      "1        0.0000       0.026          0.0     11           Windows   \n",
      "2        0.0396       0.052          0.0      9           Windows   \n",
      "3        0.0248       0.028          1.8     12           Windows   \n",
      "4        0.0141       0.032          0.0      5           Android   \n",
      "\n",
      "         browser          region   traffic_type  visitor_type  weekend  \\\n",
      "0  Google Chrome   North America        Twitter             0    False   \n",
      "1  Google Chrome  Western Europe  Google search             0     True   \n",
      "2  Google Chrome            Asia        Twitter             0    False   \n",
      "3  Google Chrome  Western Europe  Instagram ads             0    False   \n",
      "4  Google Chrome   North America  Instagram ads             0    False   \n",
      "\n",
      "   revenue  \n",
      "0    False  \n",
      "1    False  \n",
      "2    False  \n",
      "3     True  \n",
      "4    False  \n"
     ]
    }
   ],
   "source": [
    "print(df[\"visitor_type\"].dtype)  # Check if it's still categorical or has been converted\n",
    "print(df.head())  # See the first few rows of the dataset"
   ]
  },
  {
   "cell_type": "code",
   "execution_count": 23,
   "id": "69e7a1e0-a92d-49ad-adf3-98474b60a658",
   "metadata": {},
   "outputs": [
    {
     "name": "stdout",
     "output_type": "stream",
     "text": [
      "['Returning_Visitor' 'New_Visitor' 'Other']\n"
     ]
    }
   ],
   "source": [
    "df = pd.read_csv(\"customer_activity.csv\")  # Reload if needed\n",
    "print(df[\"visitor_type\"].unique())  # Check if original values are back"
   ]
  },
  {
   "cell_type": "code",
   "execution_count": 24,
   "id": "79bf5943-5eef-4c53-bd9e-775b0788354a",
   "metadata": {},
   "outputs": [
    {
     "name": "stdout",
     "output_type": "stream",
     "text": [
      "['Returning_Visitor' 'New_Visitor' 'Other']\n"
     ]
    }
   ],
   "source": [
    "print(df[\"visitor_type\"].unique())"
   ]
  },
  {
   "cell_type": "code",
   "execution_count": 25,
   "id": "a01dc69c-d22f-48ea-85d1-6aa0ed28ad1e",
   "metadata": {},
   "outputs": [
    {
     "name": "stdout",
     "output_type": "stream",
     "text": [
      "object\n"
     ]
    }
   ],
   "source": [
    "print(df[\"visitor_type\"].dtype)"
   ]
  },
  {
   "cell_type": "code",
   "execution_count": 26,
   "id": "72bfb9a9-74ca-4db4-a9db-04c1451bf4d8",
   "metadata": {},
   "outputs": [],
   "source": [
    "df[\"visitor_type\"] = df[\"visitor_type\"].map({\"Returning_Visitor\": 1, \"New_Visitor\": 0, \"Other\": 2})"
   ]
  },
  {
   "cell_type": "code",
   "execution_count": 27,
   "id": "73527f0c-5b3f-4089-a3b4-198183fe48b5",
   "metadata": {},
   "outputs": [
    {
     "name": "stdout",
     "output_type": "stream",
     "text": [
      "[1 0 2]\n",
      "int64\n"
     ]
    }
   ],
   "source": [
    "print(df[\"visitor_type\"].unique())  # Should show [1, 0, 2] if successful\n",
    "print(df[\"visitor_type\"].dtype)  # Should now be 'int64'"
   ]
  },
  {
   "cell_type": "code",
   "execution_count": 28,
   "id": "d3f2aa37-f69e-4833-b18c-0c60b9d0d3b2",
   "metadata": {},
   "outputs": [
    {
     "name": "stdout",
     "output_type": "stream",
     "text": [
      "Unique values in browser:\n",
      " ['Google Chrome' 'Safari' 'Microsoft Edge' 'Mozilla Firefox'\n",
      " 'Samsung Internet' 'Sogou Explorer' 'Opera' 'Yandex' 'QQ'\n",
      " 'Internet Explorer' 'Android' 'UC Browser' 'Undetermined'] \n",
      "\n",
      "Unique values in region:\n",
      " ['North America' 'Western Europe' 'Asia' 'South America' 'Northern Africa'\n",
      " 'Southern Africa' 'Africa' 'Eastern Europe' 'Oceania'] \n",
      "\n",
      "Unique values in traffic_type:\n",
      " ['Twitter' 'Google search' 'Instagram ads' 'Youtube channel'\n",
      " 'Instagram Page' 'Affiliate marketing' 'Facebook ads' 'Youtube ads'\n",
      " 'Tik Tok ads' 'Bing search' 'Direct Traffic' 'Newsletter' 'Other'\n",
      " 'Yahoo Search' 'Pinterest' 'Yandex search' 'Tik Tok page' 'Facebook page'\n",
      " 'DuckDuckGo search'] \n",
      "\n"
     ]
    }
   ],
   "source": [
    "for col in [\"browser\", \"region\", \"traffic_type\"]:\n",
    "    print(f\"Unique values in {col}:\\n\", df[col].unique(), \"\\n\")"
   ]
  },
  {
   "cell_type": "code",
   "execution_count": 29,
   "id": "2ec14a69-8df1-4252-8384-a848c76cea45",
   "metadata": {},
   "outputs": [
    {
     "name": "stdout",
     "output_type": "stream",
     "text": [
      "['May' 'Nov' 'Sep' 'Dec' 'Mar' 'June' 'Aug' 'Oct' 'Jul' 'Feb']\n",
      "object\n"
     ]
    }
   ],
   "source": [
    "print(df[\"month\"].unique())  # Should show [1, 2, ..., 12]\n",
    "print(df[\"month\"].dtype)  # Should show 'int64'"
   ]
  },
  {
   "cell_type": "code",
   "execution_count": 30,
   "id": "7deef57e-6abc-43bc-943f-32af2c0da5b9",
   "metadata": {},
   "outputs": [
    {
     "name": "stdout",
     "output_type": "stream",
     "text": [
      "['May' 'Nov' 'Sep' 'Dec' 'Mar' 'Jun' 'Aug' 'Oct' 'Jul' 'Feb']\n",
      "object\n"
     ]
    }
   ],
   "source": [
    "# Correct the month names to three-letter format\n",
    "df['month'] = df['month'].replace({\"June\": \"Jun\"})\n",
    "\n",
    "# Verify the change\n",
    "print(df['month'].unique())  # Should now show consistent month names (e.g., 'Jun', 'May', etc.)\n",
    "print(df['month'].dtype)  # Should still be 'category'"
   ]
  },
  {
   "cell_type": "code",
   "execution_count": 31,
   "id": "63b37b21-1a47-4a44-8b5e-b5619960cbeb",
   "metadata": {},
   "outputs": [
    {
     "name": "stdout",
     "output_type": "stream",
     "text": [
      "[1 0 2]\n",
      "int64\n"
     ]
    }
   ],
   "source": [
    "print(df[\"visitor_type\"].unique())  # Should show [1, 0]\n",
    "print(df[\"visitor_type\"].dtype)  # Should show 'int64'"
   ]
  },
  {
   "cell_type": "code",
   "execution_count": 33,
   "id": "134b565e-17e4-4382-819d-b6531aa2df4c",
   "metadata": {},
   "outputs": [
    {
     "name": "stdout",
     "output_type": "stream",
     "text": [
      "[ 1.  0. nan]\n",
      "float64\n"
     ]
    }
   ],
   "source": [
    "import numpy as np\n",
    "\n",
    "# Replace '2' with NaN\n",
    "df['visitor_type'] = df['visitor_type'].replace(2, np.nan)\n",
    "\n",
    "# Verify the change\n",
    "print(df['visitor_type'].unique())  # Should now show [1, 0, nan]\n",
    "print(df['visitor_type'].dtype)  # Should be 'float64' as NaN is a float"
   ]
  },
  {
   "cell_type": "code",
   "execution_count": 34,
   "id": "6e7ccb91-783d-4949-9162-478269a0dd8e",
   "metadata": {},
   "outputs": [
    {
     "name": "stdout",
     "output_type": "stream",
     "text": [
      "['Twitter' 'Google search' 'Instagram ads' 'Youtube channel'\n",
      " 'Instagram Page' 'Affiliate marketing' 'Facebook ads' 'Youtube ads'\n",
      " 'Tik Tok ads' 'Bing search' 'Direct Traffic' 'Newsletter' 'Other'\n",
      " 'Yahoo Search' 'Pinterest' 'Yandex search' 'Tik Tok page' 'Facebook page'\n",
      " 'DuckDuckGo search']\n"
     ]
    }
   ],
   "source": [
    "print(df[\"traffic_type\"].unique())  # Should show cleaned and consistent traffic types"
   ]
  },
  {
   "cell_type": "code",
   "execution_count": 36,
   "id": "018cb4ec-0457-4efc-a725-71ce52bf5371",
   "metadata": {},
   "outputs": [
    {
     "data": {
      "text/plain": [
       "administrative              float64\n",
       "administrative_duration     float64\n",
       "informational                 int64\n",
       "informational_duration      float64\n",
       "product_related             float64\n",
       "product_related_duration    float64\n",
       "bounce_rates                float64\n",
       "exit_rates                  float64\n",
       "page_values                 float64\n",
       "month                        object\n",
       "operating_systems            object\n",
       "browser                      object\n",
       "region                       object\n",
       "traffic_type                 object\n",
       "visitor_type                float64\n",
       "weekend                        bool\n",
       "revenue                        bool\n",
       "dtype: object"
      ]
     },
     "execution_count": 36,
     "metadata": {},
     "output_type": "execute_result"
    }
   ],
   "source": [
    "df.dtypes"
   ]
  },
  {
   "cell_type": "code",
   "execution_count": 38,
   "id": "798dd4b2-3869-4ffb-9ba0-21c4a772b604",
   "metadata": {},
   "outputs": [
    {
     "name": "stdout",
     "output_type": "stream",
     "text": [
      "['Twitter' 'Google Search' 'Instagram Ads' 'Youtube Channel'\n",
      " 'Instagram Page' 'Affiliate Marketing' 'Facebook Ads' 'Youtube Ads'\n",
      " 'Tik Tok Ads' 'Bing Search' 'Direct Traffic' 'Newsletter' 'Other'\n",
      " 'Yahoo Search' 'Pinterest' 'Yandex Search' 'Tik Tok Page' 'Facebook Page'\n",
      " 'Duckduckgo Search']\n"
     ]
    }
   ],
   "source": [
    "df[\"traffic_type\"] = df[\"traffic_type\"].str.strip().str.title()\n",
    "print(df[\"traffic_type\"].unique())"
   ]
  },
  {
   "cell_type": "code",
   "execution_count": 40,
   "id": "1a2d5662-ac4f-4499-80cd-c5ad50ccd1db",
   "metadata": {},
   "outputs": [
    {
     "name": "stdout",
     "output_type": "stream",
     "text": [
      "   administrative  administrative_duration  informational  \\\n",
      "0             0.0                      0.0              0   \n",
      "1             0.0                      0.0              0   \n",
      "2             2.0                     99.4              0   \n",
      "3             0.0                      0.0              0   \n",
      "4             0.0                      0.0              0   \n",
      "\n",
      "   informational_duration  product_related  product_related_duration  \\\n",
      "0                     0.0              4.0                       0.0   \n",
      "1                     0.0             26.0                     876.0   \n",
      "2                     0.0             19.0                     368.0   \n",
      "3                     0.0             20.0                    1432.0   \n",
      "4                     0.0             33.0                     694.0   \n",
      "\n",
      "   bounce_rates  exit_rates  page_values month operating_systems  \\\n",
      "0        0.2000       0.200          0.0   May           Android   \n",
      "1        0.0000       0.026          0.0   Nov           Windows   \n",
      "2        0.0396       0.052          0.0   Sep           Windows   \n",
      "3        0.0248       0.028          1.8   Dec           Windows   \n",
      "4        0.0141       0.032          0.0   May           Android   \n",
      "\n",
      "         browser          region   traffic_type  visitor_type  weekend  \\\n",
      "0  Google Chrome   North America        Twitter           1.0    False   \n",
      "1  Google Chrome  Western Europe  Google Search           1.0     True   \n",
      "2  Google Chrome            Asia        Twitter           1.0    False   \n",
      "3  Google Chrome  Western Europe  Instagram Ads           1.0    False   \n",
      "4  Google Chrome   North America  Instagram Ads           1.0    False   \n",
      "\n",
      "   revenue  \n",
      "0    False  \n",
      "1    False  \n",
      "2    False  \n",
      "3     True  \n",
      "4    False  \n"
     ]
    }
   ],
   "source": [
    "import numpy as np\n",
    "\n",
    "# Correct 'month' column\n",
    "df[\"month\"] = df[\"month\"].replace(\"June\", \"Jun\")\n",
    "\n",
    "# Correct 'visitor_type' column\n",
    "df[\"visitor_type\"] = df[\"visitor_type\"].replace(2, np.nan)\n",
    "\n",
    "# Correct 'traffic_type' column\n",
    "df[\"traffic_type\"] = df[\"traffic_type\"].str.strip()\n",
    "\n",
    "# Save the cleaned DataFrame to a new variable\n",
    "df_transformed = df.copy()\n",
    "\n",
    "# Optionally, check the changes\n",
    "print(df_transformed.head())"
   ]
  },
  {
   "cell_type": "code",
   "execution_count": 41,
   "id": "6d57d2c6-b5f6-4e6e-92c9-8e6c61dae9cd",
   "metadata": {},
   "outputs": [
    {
     "name": "stdout",
     "output_type": "stream",
     "text": [
      "   administrative  administrative_duration  informational  \\\n",
      "0             0.0                      0.0              0   \n",
      "1             0.0                      0.0              0   \n",
      "2             2.0                     99.4              0   \n",
      "3             0.0                      0.0              0   \n",
      "4             0.0                      0.0              0   \n",
      "\n",
      "   informational_duration  product_related  product_related_duration  \\\n",
      "0                     0.0              4.0                       0.0   \n",
      "1                     0.0             26.0                     876.0   \n",
      "2                     0.0             19.0                     368.0   \n",
      "3                     0.0             20.0                    1432.0   \n",
      "4                     0.0             33.0                     694.0   \n",
      "\n",
      "   bounce_rates  exit_rates  page_values month operating_systems  \\\n",
      "0        0.2000       0.200          0.0   May           Android   \n",
      "1        0.0000       0.026          0.0   Nov           Windows   \n",
      "2        0.0396       0.052          0.0   Sep           Windows   \n",
      "3        0.0248       0.028          1.8   Dec           Windows   \n",
      "4        0.0141       0.032          0.0   May           Android   \n",
      "\n",
      "         browser          region  traffic_type  visitor_type  weekend  revenue  \n",
      "0  Google Chrome   North America       Twitter           1.0    False    False  \n",
      "1  Google Chrome  Western Europe  GoogleSearch           1.0     True    False  \n",
      "2  Google Chrome            Asia       Twitter           1.0    False    False  \n",
      "3  Google Chrome  Western Europe  InstagramAds           1.0    False     True  \n",
      "4  Google Chrome   North America  InstagramAds           1.0    False    False  \n"
     ]
    }
   ],
   "source": [
    "class DataTransform:\n",
    "    def __init__(self, df):\n",
    "        self.df = df\n",
    "    \n",
    "    def transform_month(self):\n",
    "        # Change 'June' to 'Jun'\n",
    "        self.df[\"month\"] = self.df[\"month\"].replace(\"June\", \"Jun\")\n",
    "    \n",
    "    def transform_visitor_type(self):\n",
    "        # Replace '2' with NaN\n",
    "        self.df[\"visitor_type\"] = self.df[\"visitor_type\"].replace(2, pd.NA)\n",
    "    \n",
    "    def transform_traffic_type(self):\n",
    "        # Remove spaces and keep capitalization intact\n",
    "        self.df[\"traffic_type\"] = self.df[\"traffic_type\"].str.replace(' ', '', regex=True)\n",
    "\n",
    "    def apply_transformations(self):\n",
    "        self.transform_month()\n",
    "        self.transform_visitor_type()\n",
    "        self.transform_traffic_type()\n",
    "        return self.df\n",
    "\n",
    "\n",
    "# Instantiate the class with the original dataframe\n",
    "data_transformer = DataTransform(df)\n",
    "\n",
    "# Apply transformations\n",
    "df_transformed = data_transformer.apply_transformations()\n",
    "\n",
    "# Save the transformed data to a new CSV file (optional step)\n",
    "df_transformed.to_csv(\"cleaned_data.csv\", index=False)\n",
    "\n",
    "# Verify the transformed data\n",
    "print(df_transformed.head())"
   ]
  },
  {
   "cell_type": "code",
   "execution_count": null,
   "id": "70137bad-87e1-44ed-82cd-9b245673fe21",
   "metadata": {},
   "outputs": [],
   "source": [
    "# Correct specific cases with proper capitalization and spaces\n",
    "df[\"traffic_type\"] = df[\"traffic_type\"].replace({\n",
    "    \"InstagramAds\": \"Instagram Ads\",\n",
    "    \"TikTokads\": \"Tik Tok ads\",\n",
    "    \"GoogleSearch\": \"Google search\",\n",
    "    \"Youtubechannel\": \"YouTube channel\",\n",
    "    \"TikTokpage\": \"Tik Tok page\"\n",
    "})\n",
    "\n",
    "# Verify the change\n",
    "print(df[\"traffic_type\"].unique())\n"
   ]
  },
  {
   "cell_type": "code",
   "execution_count": 42,
   "id": "a4c45355-c232-4a82-b764-0895fee5da8b",
   "metadata": {},
   "outputs": [
    {
     "name": "stdout",
     "output_type": "stream",
     "text": [
      "['Twitter' 'Google Search' 'InstagramAds' 'YoutubeChannel' 'InstagramPage'\n",
      " 'AffiliateMarketing' 'FacebookAds' 'YoutubeAds' 'TikTokAds' 'BingSearch'\n",
      " 'DirectTraffic' 'Newsletter' 'Other' 'YahooSearch' 'Pinterest'\n",
      " 'YandexSearch' 'TikTokPage' 'FacebookPage' 'DuckduckgoSearch']\n"
     ]
    }
   ],
   "source": [
    "# Apply the correct spacing by adding spaces between terms that are supposed to be separate\n",
    "df[\"traffic_type\"] = df[\"traffic_type\"].replace({\n",
    "    \"TikTokads\": \"TikTok Ads\",\n",
    "    \"Instagramads\": \"Instagram Ads\",\n",
    "    \"Facebookads\": \"Facebook Ads\",\n",
    "    \"GoogleSearch\": \"Google Search\",\n",
    "    \"Youtubechannel\": \"YouTube Channel\",\n",
    "    \"Pinterest\": \"Pinterest\"\n",
    "}, regex=True)\n",
    "\n",
    "# Verify the changes\n",
    "print(df[\"traffic_type\"].unique())"
   ]
  },
  {
   "cell_type": "code",
   "execution_count": 43,
   "id": "74261cc0-9c89-4071-b938-ffd420b52ce1",
   "metadata": {},
   "outputs": [
    {
     "name": "stdout",
     "output_type": "stream",
     "text": [
      "['Twitter' 'Google Search' 'Instagram Ads' 'YoutubeChannel'\n",
      " 'Instagram Page' 'Affiliate Marketing' 'FacebookAds' 'YoutubeAds'\n",
      " 'TikTok Ads' 'Bing Search' 'Direct Traffic' 'Newsletter' 'Other'\n",
      " 'Yahoo Search' 'Pinterest' 'Yandex Search' 'TikTok Page' 'Facebook Page'\n",
      " 'DuckDuckGo Search']\n"
     ]
    }
   ],
   "source": [
    "# Correcting spacing for all traffic types\n",
    "df[\"traffic_type\"] = df[\"traffic_type\"].replace({\n",
    "    \"InstagramAds\": \"Instagram Ads\",\n",
    "    \"GoogleSearch\": \"Google Search\",\n",
    "    \"Youtubechannel\": \"YouTube Channel\",\n",
    "    \"Pinterest\": \"Pinterest\",\n",
    "    \"Facebookads\": \"Facebook Ads\",\n",
    "    \"Youtubeads\": \"YouTube Ads\",\n",
    "    \"TikTokAds\": \"TikTok Ads\",\n",
    "    \"BingSearch\": \"Bing Search\",\n",
    "    \"DirectTraffic\": \"Direct Traffic\",\n",
    "    \"TikTokPage\": \"TikTok Page\",\n",
    "    \"FacebookPage\": \"Facebook Page\",\n",
    "    \"DuckduckgoSearch\": \"DuckDuckGo Search\",\n",
    "    \"YahooSearch\": \"Yahoo Search\",\n",
    "    \"YandexSearch\": \"Yandex Search\",\n",
    "    \"InstagramPage\": \"Instagram Page\",\n",
    "    \"AffiliateMarketing\": \"Affiliate Marketing\"\n",
    "}, regex=True)\n",
    "\n",
    "# Verify the changes\n",
    "print(df[\"traffic_type\"].unique())"
   ]
  },
  {
   "cell_type": "code",
   "execution_count": 44,
   "id": "140fad02-0f54-4f9b-8506-496c64b01a5d",
   "metadata": {},
   "outputs": [
    {
     "name": "stdout",
     "output_type": "stream",
     "text": [
      "['Twitter' 'Google Search' 'Instagram Ads' 'YouTube Channel'\n",
      " 'Instagram Page' 'Affiliate Marketing' 'Facebook Ads' 'YouTube Ads'\n",
      " 'TikTok Ads' 'Bing Search' 'Direct Traffic' 'Newsletter' 'Other'\n",
      " 'Yahoo Search' 'Pinterest' 'Yandex Search' 'TikTok Page' 'Facebook Page'\n",
      " 'DuckDuckGo Search']\n"
     ]
    }
   ],
   "source": [
    "# Manually correcting the terms that still need spacing\n",
    "df[\"traffic_type\"] = df[\"traffic_type\"].replace({\n",
    "    \"YoutubeChannel\": \"YouTube Channel\",\n",
    "    \"FacebookAds\": \"Facebook Ads\",\n",
    "    \"YoutubeAds\": \"YouTube Ads\",\n",
    "    \"TikTokAds\": \"TikTok Ads\",\n",
    "    \"BingSearch\": \"Bing Search\",\n",
    "    \"DirectTraffic\": \"Direct Traffic\",\n",
    "    \"TikTokPage\": \"TikTok Page\",\n",
    "    \"FacebookPage\": \"Facebook Page\",\n",
    "    \"DuckduckgoSearch\": \"DuckDuckGo Search\"\n",
    "})\n",
    "\n",
    "# Verify the changes\n",
    "print(df[\"traffic_type\"].unique())"
   ]
  },
  {
   "cell_type": "code",
   "execution_count": 45,
   "id": "ca202698-4489-477c-a2fb-cdc0f64abb34",
   "metadata": {},
   "outputs": [
    {
     "ename": "AttributeError",
     "evalue": "'DataTransform' object has no attribute 'cleaned_data'",
     "output_type": "error",
     "traceback": [
      "\u001b[0;31m---------------------------------------------------------------------------\u001b[0m",
      "\u001b[0;31mAttributeError\u001b[0m                            Traceback (most recent call last)",
      "Cell \u001b[0;32mIn[45], line 5\u001b[0m\n\u001b[1;32m      2\u001b[0m data_transform \u001b[38;5;241m=\u001b[39m DataTransform(df)\n\u001b[1;32m      4\u001b[0m \u001b[38;5;66;03m# Save the cleaned data to a new file, for example, 'cleaned_data.csv'\u001b[39;00m\n\u001b[0;32m----> 5\u001b[0m df_cleaned \u001b[38;5;241m=\u001b[39m data_transform\u001b[38;5;241m.\u001b[39mcleaned_data\n\u001b[1;32m      6\u001b[0m df_cleaned\u001b[38;5;241m.\u001b[39mto_csv(\u001b[38;5;124m\"\u001b[39m\u001b[38;5;124mcleaned_data.csv\u001b[39m\u001b[38;5;124m\"\u001b[39m, index\u001b[38;5;241m=\u001b[39m\u001b[38;5;28;01mFalse\u001b[39;00m)\n\u001b[1;32m      8\u001b[0m \u001b[38;5;66;03m# You can now load the cleaned data for future use\u001b[39;00m\n",
      "\u001b[0;31mAttributeError\u001b[0m: 'DataTransform' object has no attribute 'cleaned_data'"
     ]
    }
   ],
   "source": [
    "# Saving the cleaned data to the DataTransform class\n",
    "data_transform = DataTransform(df)\n",
    "\n",
    "# Save the cleaned data to a new file, for example, 'cleaned_data.csv'\n",
    "df_cleaned = data_transform.cleaned_data\n",
    "df_cleaned.to_csv(\"cleaned_data.csv\", index=False)\n",
    "\n",
    "# You can now load the cleaned data for future use\n",
    "print(\"Cleaned data saved as 'cleaned_data.csv'\")"
   ]
  },
  {
   "cell_type": "code",
   "execution_count": 46,
   "id": "3e93e04d-c937-40e6-bcac-c8388b19f734",
   "metadata": {},
   "outputs": [],
   "source": [
    "class DataTransform:\n",
    "    def __init__(self, df):\n",
    "        self.df = df\n",
    "        self.cleaned_df = df  # Store the original DataFrame here\n",
    "    \n",
    "    def clean_data(self):\n",
    "        # Add the cleaning steps here (e.g., replacing values, formatting, etc.)\n",
    "        self.df[\"month\"] = self.df[\"month\"].replace({\"June\": \"Jun\"})\n",
    "        self.df[\"visitor_type\"] = self.df[\"visitor_type\"].replace({2: pd.NA})\n",
    "        self.df[\"traffic_type\"] = self.df[\"traffic_type\"].str.replace(r'\\s+', ' ', regex=True)\n",
    "        self.df[\"traffic_type\"] = self.df[\"traffic_type\"].str.title()  # Correct capitalization\n",
    "        # Add any other cleaning steps you want to include here\n",
    "        \n",
    "    def get_cleaned_data(self):\n",
    "        # Return the cleaned DataFrame\n",
    "        return self.df"
   ]
  },
  {
   "cell_type": "code",
   "execution_count": 47,
   "id": "f7839c2f-1254-4295-919b-828a8d6f1523",
   "metadata": {},
   "outputs": [],
   "source": [
    "# Create an instance of the DataTransform class\n",
    "data_transform = DataTransform(df)\n",
    "\n",
    "# Clean the data\n",
    "data_transform.clean_data()\n",
    "\n",
    "# Get the cleaned data and save to a CSV file\n",
    "df_cleaned = data_transform.get_cleaned_data()\n",
    "df_cleaned.to_csv(\"cleaned_data.csv\", index=False)"
   ]
  }
 ],
 "metadata": {
  "kernelspec": {
   "display_name": "Python 3 (ipykernel)",
   "language": "python",
   "name": "python3"
  },
  "language_info": {
   "codemirror_mode": {
    "name": "ipython",
    "version": 3
   },
   "file_extension": ".py",
   "mimetype": "text/x-python",
   "name": "python",
   "nbconvert_exporter": "python",
   "pygments_lexer": "ipython3",
   "version": "3.12.7"
  }
 },
 "nbformat": 4,
 "nbformat_minor": 5
}
